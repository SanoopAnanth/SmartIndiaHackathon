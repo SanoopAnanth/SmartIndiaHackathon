{
 "cells": [
  {
   "cell_type": "code",
   "execution_count": null,
   "id": "ae65f14f",
   "metadata": {},
   "outputs": [],
   "source": [
    "# Import necessary libraries\n",
    "import pandas as pd\n",
    "from sklearn.model_selection import train_test_split\n",
    "from sklearn.ensemble import RandomForestClassifier\n",
    "from sklearn.metrics import accuracy_score, classification_report\n",
    "\n",
    "# Load your student data (replace 'data.csv' with your dataset)\n",
    "data = pd.read_csv('student_dataset_with_names.csv')\n",
    "\n",
    "# Define features (e.g., attendance rate, homework completion) and target (slow learner or not)\n",
    "X = data[[\"Subject1\",\"Subject2\",\"Subject3\",\"Subject4\",\"Subject5\"]]  # Add relevant features\n",
    "y = data['Learner_Type']  # Assuming 'SlowLearner' is your target variable\n",
    "\n",
    "# Split data into training and testing sets\n",
    "X_train, X_test, y_train, y_test = train_test_split(X, y, test_size=0.2, random_state=42)\n",
    "\n",
    "# Create and train a machine learning model (Random Forest classifier in this example)\n",
    "model = RandomForestClassifier(random_state=42)\n",
    "model.fit(X_train, y_train)\n",
    "\n",
    "# Make predictions on the test set\n",
    "y_pred = model.predict(X_test)\n",
    "\n",
    "# Evaluate the model\n",
    "accuracy = accuracy_score(y_test, y_pred)\n",
    "report = classification_report(y_test, y_pred)\n",
    "\n",
    "# Print results\n",
    "print(f\"Accuracy: {accuracy}\")\n",
    "print(\"Classification Report:\")\n",
    "print(report)"
   ]
  },
  {
   "cell_type": "code",
   "execution_count": null,
   "id": "bcf42dbd",
   "metadata": {},
   "outputs": [],
   "source": [
    "singleinstance=[[45,45,45,45,45]]\n",
    "predictions=model.predict(singleinstance)\n",
    "predictions"
   ]
  },
  {
   "cell_type": "code",
   "execution_count": null,
   "id": "79827f57",
   "metadata": {},
   "outputs": [],
   "source": [
    "singleinstance=[[50,50,50,50,50]]\n",
    "predictions=model.predict(singleinstance)\n",
    "predictions"
   ]
  },
  {
   "cell_type": "code",
   "execution_count": null,
   "id": "42b05421",
   "metadata": {},
   "outputs": [],
   "source": [
    "singleinstance=[[49,49,49,49,49]]\n",
    "predictions=model.predict(singleinstance)\n",
    "predictions"
   ]
  },
  {
   "cell_type": "code",
   "execution_count": null,
   "id": "52013172",
   "metadata": {},
   "outputs": [],
   "source": [
    "singleinstance=[[30,50,50,50,50]]\n",
    "predictions=model.predict(singleinstance)\n",
    "predictions"
   ]
  },
  {
   "cell_type": "code",
   "execution_count": null,
   "id": "9e453ccd",
   "metadata": {},
   "outputs": [],
   "source": [
    "singleinstance=[[30,50,50,50,50]]\n",
    "predictions=model.predict(singleinstance)\n",
    "predictions"
   ]
  },
  {
   "cell_type": "code",
   "execution_count": null,
   "id": "75666d4e",
   "metadata": {},
   "outputs": [],
   "source": [
    "singleinstance=[[30,80,80,80,80]]\n",
    "predictions=model.predict(singleinstance)\n",
    "predictions"
   ]
  },
  {
   "cell_type": "code",
   "execution_count": null,
   "id": "f2697724",
   "metadata": {},
   "outputs": [],
   "source": [
    "singleinstance=[[30,80,80,80,80]]\n",
    "predictions=model.predict(singleinstance)\n",
    "predictions"
   ]
  },
  {
   "cell_type": "code",
   "execution_count": null,
   "id": "5e2f25fb",
   "metadata": {},
   "outputs": [],
   "source": [
    "singleinstance=[[20,100,100,80,80]]\n",
    "predictions=model.predict(singleinstance)\n",
    "predictions"
   ]
  },
  {
   "cell_type": "code",
   "execution_count": null,
   "id": "c93120cc",
   "metadata": {},
   "outputs": [],
   "source": [
    "y"
   ]
  },
  {
   "cell_type": "code",
   "execution_count": null,
   "id": "ea4e6fd7",
   "metadata": {},
   "outputs": [],
   "source": [
    "data"
   ]
  },
  {
   "cell_type": "code",
   "execution_count": null,
   "id": "333ac86a",
   "metadata": {},
   "outputs": [],
   "source": [
    "condition=(data['Learner_Type']==\"Slow Learner\")"
   ]
  },
  {
   "cell_type": "code",
   "execution_count": null,
   "id": "bef448d0",
   "metadata": {},
   "outputs": [],
   "source": [
    "df=data[condition]\n",
    "df"
   ]
  },
  {
   "cell_type": "code",
   "execution_count": null,
   "id": "e5c8fca2",
   "metadata": {},
   "outputs": [],
   "source": []
  }
 ],
 "metadata": {
  "kernelspec": {
   "display_name": "Python 3 (ipykernel)",
   "language": "python",
   "name": "python3"
  },
  "language_info": {
   "codemirror_mode": {
    "name": "ipython",
    "version": 3
   },
   "file_extension": ".py",
   "mimetype": "text/x-python",
   "name": "python",
   "nbconvert_exporter": "python",
   "pygments_lexer": "ipython3",
   "version": "3.11.4"
  }
 },
 "nbformat": 4,
 "nbformat_minor": 5
}
